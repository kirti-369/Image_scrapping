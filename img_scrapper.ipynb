{
 "cells": [
  {
   "cell_type": "code",
   "execution_count": 1,
   "id": "367ed214-baf4-4f6e-a888-9fb3cc08d96f",
   "metadata": {},
   "outputs": [],
   "source": [
    "import requests\n",
    "from bs4 import BeautifulSoup as bs\n",
    "from urllib.request import urlopen as uReq\n",
    "import logging\n",
    "import os"
   ]
  },
  {
   "cell_type": "code",
   "execution_count": 2,
   "id": "5d45a76e-472e-48cd-8dd2-0ecad80e1ad8",
   "metadata": {},
   "outputs": [],
   "source": [
    "save_dir = \"images/\"\n",
    "if not os.path.exists(save_dir):\n",
    "    os.makedirs(save_dir)"
   ]
  },
  {
   "cell_type": "code",
   "execution_count": 3,
   "id": "3f22d8b4-1848-46f5-b680-c85e2cd5e2fc",
   "metadata": {},
   "outputs": [],
   "source": [
    "headers = {\"User-Agent\": \"Mozilla/5.0 (Windows NT 10.0; Win64; x64) AppleWebKit/537.36 (KHTML, like Gecko) Chrome/58.0.3029.110 Safari/537.36\"}"
   ]
  },
  {
   "cell_type": "code",
   "execution_count": 4,
   "id": "14f8c9b2-e342-4db7-97dc-665ff16a2081",
   "metadata": {},
   "outputs": [],
   "source": [
    "query = \"sundar pichai\"\n",
    "response = requests.get(f\"https://www.google.com/search?sca_esv={query}ab65fc6f24c45a6f&sxsrf=ADLYWIIzw6nSpbspLovbUmm_XL0H1PonBg:1721986609603&q=sundar+pichai&udm=2&fbs=AEQNm0Aa4sjWe7Rqy32pFwRj0UkWd8nbOJfsBGGB5IQQO6L3J5MIFhvnvU242yFxzEEp3BekApeLFCP-yt1rlLqzmhw_-yjmy56-jU7vCqheuFOLmQRfAB99cxHld5c98wjVFx44OPD2XifQJ3oLvh7U8nPV6v3AtTCu5hoZeWRfyN25Emdpl97-fPb3rtztUklBAoY-k51Hul_gXY5gNHPfdAu3yLD0tw&sa=X&sqi=2&ved=2ahUKEwiCnrGBtMSHAxVizjgGHV4mA_kQtKgLegQIEhAB&biw=1536&bih=695&dpr=1.25\")"
   ]
  },
  {
   "cell_type": "code",
   "execution_count": 5,
   "id": "3520d6a1-d90a-4394-b93c-11c1933e7912",
   "metadata": {},
   "outputs": [
    {
     "data": {
      "text/plain": [
       "b'<!DOCTYPE html PUBLIC \"-//WAPFORUM//DTD XHTML Mobile 1.0//EN\" \"http://www.wapforum.org/DTD/xhtml-mobile10.dtd\"><html xmlns=\"http://www.w3.org/1999/xhtml\" lang=\"en-IN\"><head><meta content=\"application/xhtml+xml; charset=UTF-8\" http-equiv=\"Content-Type\"/><meta content=\"no-cache\" name=\"Cache-Control\"/><title>sundar pichai - Google Search</title><style>a{text-decoration:none;color:inherit}a:hover{text-decoration:underline}a img{border:0}body{font-family:arial,sans-serif;padding:8px;margin:0 auto;max-width:700px;min-width:240px;}.FbhRzb{border-left:thin solid #dadce0;border-right:thin solid #dadce0;border-top:thin solid #dadce0;height:40px;overflow:hidden}.n692Zd{margin-bottom:10px}.cvifge{height:40px;border-spacing:0}.QvGUP{height:40px;padding:0 8px 0 8px;vertical-align:top}.O4cRJf{height:40px;width:100%;padding:0;padding-right:16px}.O1ePr{height:40px;padding:0;vertical-align:top}.kgJEQe{height:36px;width:98px;vertical-align:top;margin-top:4px}.lXLRf{vertical-align:top}.MhzMZd{border:0;vertical-align:middle;font-size:14px;height:40px;padding:0;width:100%;padding-left:16px}.xB0fq{height:40px;border:none;font-size:14px;background-color:#1a73e8;color:#fff;padding:0 16px;margin:0;vertical-align:top;cursor:pointer}.xB0fq:focus{border:1px solid #1a73e8}.M7pB2{border:thin solid #dadce0;margin:0 0 3px 0;font-size:13px;font-weight:500;height:40px}.euZec{width:100%;height:40px;text-align:center;border-spacing:0}table.euZec td{padding:0;width:25%}.QIqI7{display:inline-block;padding-top:4px;font-weight:bold;color:#4285f4}.EY24We{border-bottom:2px solid #4285f4}.CsQyDc{display:inline-block;color:#70757a}.TuS8Ad{font-size:14px}.HddGcc{padding:8px;color:#70757a}.dzp8ae{font-weight:bold;color:#3c4043}.rEM8G{color:#70757a}.bookcf{table-layout:fixed;width:100%;border-spacing:0}.InWNIe{text-align:center}.uZgmoc{border:thin solid #dadce0;color:#70757a;font-size:14px;text-align:center;table-layout:fixed;width:100%}.frGj1b{display:block;padding:12px 0 12px 0;width:100%}.BnJWBc{text-align:center;padding:6px 0 13px 0;height:35px}.e3goi{vertical-align:top;padding:0;height:180px}.GpQGbf{margin:auto;border-collapse:collapse;border-spacing:0;width:100%}</style></head><body><style>.X6ZCif{color:#202124;font-size:11px;line-height:16px;display:inline-block;padding-top:2px;overflow:hidden;padding-bottom:4px;width:100%}.TwVfHd{border-radius:16px;border:thin solid #dadce0;display:inline-block;padding:8px 8px;margin-right:8px;margin-bottom:4px}.yekiAe{background-color:#dadce0}.jjVJ4e{width:100%}.ezO2md{border:thin solid #dadce0;padding:12px 16px 12px 16px;margin-bottom:10px;font-family:arial,sans-serif}.lIMUZd{font-family:arial,sans-serif}.RntSmf{border-spacing:0}.lgD2Tc{width:100%}.SpelHe{text-align:center}.SpelHe{position:relative}.kCmkOe{position:relative}.kCmkOe{width:162px;height:140px;line-height:140px;overflow:\\'hidden\\';text-align:center}.DS1iW{text-align:center;margin:auto;vertical-align:middle;max-width:162px;max-height:140px}.AlD19d{padding-top:2px;padding-bottom:8px;}.fYyStc{word-break:break-word}.ynsChf{display:block;white-space:nowrap;overflow:hidden;text-overflow:ellipsis}.Fj3V3b{color:#1967d2;font-size:14px;line-height:20px}.FrIlee{color:#202124;font-size:11px;line-height:16px}.F9iS2e{color:#70757a;font-size:11px;line-height:16px}.WMQ2Le{color:#70757a;font-size:12px;line-height:16px}.x3G5ab{color:#202124;font-size:12px;line-height:16px}.fuLhoc{color:#1967d2;font-size:16px;line-height:20px}.epoveb{font-size:24px;line-height:28px;font-weight:400;color:#202124}.dXDvrc{color:#0d652d;font-size:14px;line-height:20px;word-wrap:break-word}.dloBPe{font-weight:bold}.YVIcad{color:#70757a}.JkVVdd{color:#ea4335}.oXZRFd{color:#ea4335}.MQHtg{color:#fbbc04}.pyMRrb{color:#1e8e3e}.EtTZid{color:#1e8e3e}.M3vVJe{color:#1967d2}.qXLe6d{display:block}.NHQNef{font-style:italic}.Cb8Z7c{white-space:pre}a.ZWRArf{text-decoration:none}a .CVA68e:hover{text-decoration:underline}</style><div class=\"n692Zd\"><div class=\"BnJWBc\"><a class=\"lXLRf\" href=\"/?sa=X&amp;sca_esv=8555417468704b0c&amp;sca_upv=1&amp;biw=1536&amp;bih=695&amp;output=images&amp;ie=UTF-8&amp;tbm=isch&amp;ved=0ahUKEwj2nYr9z8SHAxVgzDgGHcthA9UQPAgC\"><img class=\"kgJEQe\" src=\"/images/branding/searchlogo/1x/googlelogo_desk_heirloom_color_150x55dp.gif\" alt=\"Google\"/></a></div><div class=\"FbhRzb\"><form action=\"/search\"><input name=\"sca_esv\" value=\"8555417468704b0c\" type=\"hidden\"/><input name=\"sca_upv\" value=\"1\" type=\"hidden\"/><input name=\"biw\" value=\"1536\" type=\"hidden\"/><input name=\"bih\" value=\"695\" type=\"hidden\"/><input name=\"ie\" value=\"ISO-8859-1\" type=\"hidden\"/><input name=\"tbm\" value=\"isch\" type=\"hidden\"/><input name=\"oq\" type=\"hidden\"/><input name=\"aqs\" type=\"hidden\"/><table class=\"cvifge\"><tr><td class=\"O4cRJf\"><input class=\"MhzMZd\" value=\"sundar pichai\" name=\"q\" type=\"text\"/></td><td class=\"O1ePr\"><input class=\"xB0fq\" value=\"Search\" type=\"submit\"/></td></tr></table></form></div><div class=\"M7pB2\"><table class=\"euZec\"><tbody><tr><td><a class=\"CsQyDc\" href=\"/search?q=sundar+pichai&amp;sca_esv=8555417468704b0c&amp;sca_upv=1&amp;biw=1536&amp;bih=695&amp;ie=UTF-8&amp;source=lnms&amp;fbs=AEQNm0Aa4sjWe7Rqy32pFwRj0UkWd8nbOJfsBGGB5IQQO6L3J5MIFhvnvU242yFxzEEp3BekApeLFCP-yt1rlLqzmhw_-yjmy56-jU7vCqheuFOLmQRfAB99cxHld5c98wjVFx44OPD2XifQJ3oLvh7U8nPV6v3AtTCu5hoZeWRfyN25Emdpl97-fPb3rtztUklBAoY-k51Hul_gXY5gNHPfdAu3yLD0tw&amp;sa=X&amp;ved=0ahUKEwj2nYr9z8SHAxVgzDgGHcthA9UQ_AUIBCgA\">ALL</a></td><td><a class=\"CsQyDc\" href=\"/search?q=sundar+pichai&amp;sca_esv=8555417468704b0c&amp;sca_upv=1&amp;biw=1536&amp;bih=695&amp;ie=UTF-8&amp;tbm=nws&amp;source=lnms&amp;fbs=AEQNm0Aa4sjWe7Rqy32pFwRj0UkWd8nbOJfsBGGB5IQQO6L3J5MIFhvnvU242yFxzEEp3BekApeLFCP-yt1rlLqzmhw_-yjmy56-jU7vCqheuFOLmQRfAB99cxHld5c98wjVFx44OPD2XifQJ3oLvh7U8nPV6v3AtTCu5hoZeWRfyN25Emdpl97-fPb3rtztUklBAoY-k51Hul_gXY5gNHPfdAu3yLD0tw&amp;sa=X&amp;ved=0ahUKEwj2nYr9z8SHAxVgzDgGHcthA9UQ_AUIBSgB\">NEWS</a></td><td class=\"EY24We\"><span class=\"QIqI7\">IMAGES</span></td><td><a class=\"CsQyDc\" href=\"/search?q=sundar+pichai&amp;sca_esv=8555417468704b0c&amp;sca_upv=1&amp;biw=1536&amp;bih=695&amp;ie=UTF-8&amp;tbm=vid&amp;source=lnms&amp;fbs=AEQNm0Aa4sjWe7Rqy32pFwRj0UkWd8nbOJfsBGGB5IQQO6L3J5MIFhvnvU242yFxzEEp3BekApeLFCP-yt1rlLqzmhw_-yjmy56-jU7vCqheuFOLmQRfAB99cxHld5c98wjVFx44OPD2XifQJ3oLvh7U8nPV6v3AtTCu5hoZeWRfyN25Emdpl97-fPb3rtztUklBAoY-k51Hul_gXY5gNHPfdAu3yLD0tw&amp;sa=X&amp;ved=0ahUKEwj2nYr9z8SHAxVgzDgGHcthA9UQ_AUIBygD\">VIDEOS</a></td></tr></tbody></table></div></div><div><table class=\"GpQGbf\"><tr><td class=\"e3goi\" align=\"center\"><div class=\"jjVJ4e\"> <div> <div class=\"lIMUZd\"><div><table class=\"RntSmf\"><tr><td><a href=\"/url?q=https://en.wikipedia.org/wiki/Sundar_Pichai&amp;sa=U&amp;ved=2ahUKEwj2nYr9z8SHAxVgzDgGHcthA9UQqoUBegQIAxAB&amp;usg=AOvVaw1kaRHR3zC-6Q4k5GmJk1R5\"><div class=\"kCmkOe\"><img class=\"DS1iW\" alt=\"\" src=\"https://encrypted-tbn0.gstatic.com/images?q=tbn:ANd9GcSUHuUHATgxDDQayfFAJ83-0dr0WuaiI9LlYlxSEbnGXH1_9YULeiijrn8hfbA&amp;s\"/></div></a></td></tr><tr><td><a href=\"/url?q=https://en.wikipedia.org/wiki/Sundar_Pichai&amp;sa=U&amp;ved=2ahUKEwj2nYr9z8SHAxVgzDgGHcthA9UQr4kDegQIAxAC&amp;usg=AOvVaw0Q3yzapUpD86XYTpb_cQXp\"><div class=\"AlD19d\">  <span class=\"qXLe6d x3G5ab\">  <span class=\"fYyStc\">Sundar Pichai - Wikipedia</span>  </span>   <span class=\"qXLe6d F9iS2e\">  <span class=\"fYyStc\">en.wikipedia.org</span>  </span> </div></a></td></tr></table></div></div> </div> </div></td><td class=\"e3goi\" align=\"center\"><div class=\"jjVJ4e\"> <div> <div class=\"lIMUZd\"><div><table class=\"RntSmf\"><tr><td><a href=\"/url?q=https://www.linkedin.com/in/sundarpichai&amp;sa=U&amp;ved=2ahUKEwj2nYr9z8SHAxVgzDgGHcthA9UQqoUBegQIExAB&amp;usg=AOvVaw0f0Ds2g-wYrZyd47N45pgf\"><div class=\"kCmkOe\"><img class=\"DS1iW\" alt=\"\" src=\"https://encrypted-tbn0.gstatic.com/images?q=tbn:ANd9GcTi4rFF0UsyhO-3fnMtc9YzElg7fgM8td1lZW95ggz7SJRgQeFs_-kfo5Wlpg&amp;s\"/></div></a></td></tr><tr><td><a href=\"/url?q=https://www.linkedin.com/in/sundarpichai&amp;sa=U&amp;ved=2ahUKEwj2nYr9z8SHAxVgzDgGHcthA9UQr4kDegQIExAC&amp;usg=AOvVaw1PtAnohuaDOpJbpD6_uM9n\"><div class=\"AlD19d\">  <span class=\"qXLe6d x3G5ab\">  <span class=\"fYyStc\">Sundar Pichai - CEO -...</span>  </span>   <span class=\"qXLe6d F9iS2e\">  <span class=\"fYyStc\">www.linkedin.com</span>  </span> </div></a></td></tr></table></div></div> </div> </div></td><td class=\"e3goi\" align=\"center\"><div class=\"jjVJ4e\"> <div> <div class=\"lIMUZd\"><div><table class=\"RntSmf\"><tr><td><a href=\"/url?q=https://www.weforum.org/people/sundar-pichai/&amp;sa=U&amp;ved=2ahUKEwj2nYr9z8SHAxVgzDgGHcthA9UQqoUBegQIEhAB&amp;usg=AOvVaw1xWGLL7XZ6W5YIGblnxhUb\"><div class=\"kCmkOe\"><img class=\"DS1iW\" alt=\"\" src=\"https://encrypted-tbn0.gstatic.com/images?q=tbn:ANd9GcSUYhkyw-DnuQI5hgTyhRZZc3O_gi-PHlixtaa9aB1PngCBSOxVbbCq9A1btg&amp;s\"/></div></a></td></tr><tr><td><a href=\"/url?q=https://www.weforum.org/people/sundar-pichai/&amp;sa=U&amp;ved=2ahUKEwj2nYr9z8SHAxVgzDgGHcthA9UQr4kDegQIEhAC&amp;usg=AOvVaw2laTtH7Gi1m_zQun1Z3rVp\"><div class=\"AlD19d\">  <span class=\"qXLe6d x3G5ab\">  <span class=\"fYyStc\">Sundar Pichai | World...</span>  </span>   <span class=\"qXLe6d F9iS2e\">  <span class=\"fYyStc\">www.weforum.org</span>  </span> </div></a></td></tr></table></div></div> </div> </div></td><td class=\"e3goi\" align=\"center\"><div class=\"jjVJ4e\"> <div> <div class=\"lIMUZd\"><div><table class=\"RntSmf\"><tr><td><a href=\"/url?q=https://www.britannica.com/money/Sundar-Pichai&amp;sa=U&amp;ved=2ahUKEwj2nYr9z8SHAxVgzDgGHcthA9UQqoUBegQIDhAB&amp;usg=AOvVaw008xXdBN3t2ZkEQulwYAWb\"><div class=\"kCmkOe\"><img class=\"DS1iW\" alt=\"\" src=\"https://encrypted-tbn0.gstatic.com/images?q=tbn:ANd9GcSjyydu-OaO-_p8pYfcBs7NLcP9NagxJoQJlvewUEvP81_fcOcyb9lh0whfHg&amp;s\"/></div></a></td></tr><tr><td><a href=\"/url?q=https://www.britannica.com/money/Sundar-Pichai&amp;sa=U&amp;ved=2ahUKEwj2nYr9z8SHAxVgzDgGHcthA9UQr4kDegQIDhAC&amp;usg=AOvVaw0h62UtrzlyfU5vfQUFTOP3\"><div class=\"AlD19d\">  <span class=\"qXLe6d x3G5ab\">  <span class=\"fYyStc\">Sundar Pichai | Biography,...</span>  </span>   <span class=\"qXLe6d F9iS2e\">  <span class=\"fYyStc\">www.britannica.com</span>  </span> </div></a></td></tr></table></div></div> </div> </div></td></tr><tr><td class=\"e3goi\" align=\"center\"><div class=\"jjVJ4e\"> <div> <div class=\"lIMUZd\"><div><table class=\"RntSmf\"><tr><td><a href=\"/url?q=https://www.businessinsider.com/alphabet-ceo-sundar-pichai-pay-soars-226-million-2023-4&amp;sa=U&amp;ved=2ahUKEwj2nYr9z8SHAxVgzDgGHcthA9UQqoUBegQICRAB&amp;usg=AOvVaw1EgnngMWQNv3Pt2jUvYG57\"><div class=\"kCmkOe\"><img class=\"DS1iW\" alt=\"\" src=\"https://encrypted-tbn0.gstatic.com/images?q=tbn:ANd9GcQ4IMXJS5Kx3puhV614U08kGNDiUesx8zjIOyW4Ftzy3L1tPLR-v6jmHE5nFA&amp;s\"/></div></a></td></tr><tr><td><a href=\"/url?q=https://www.businessinsider.com/alphabet-ceo-sundar-pichai-pay-soars-226-million-2023-4&amp;sa=U&amp;ved=2ahUKEwj2nYr9z8SHAxVgzDgGHcthA9UQr4kDegQICRAC&amp;usg=AOvVaw009RP_y4DWiTKU_Q5lABJH\"><div class=\"AlD19d\">  <span class=\"qXLe6d x3G5ab\">  <span class=\"fYyStc\">Alphabet CEO Sundar Pichai...</span>  </span>   <span class=\"qXLe6d F9iS2e\">  <span class=\"fYyStc\">www.businessinsider.com</span>  </span> </div></a></td></tr></table></div></div> </div> </div></td><td class=\"e3goi\" align=\"center\"><div class=\"jjVJ4e\"> <div> <div class=\"lIMUZd\"><div><table class=\"RntSmf\"><tr><td><a href=\"/url?q=https://www.indiatoday.in/technology/news/story/weeks-before-firing-12000-employees-google-ceo-sundar-pichai-received-massive-pay-hike-2328307-2023-01-30&amp;sa=U&amp;ved=2ahUKEwj2nYr9z8SHAxVgzDgGHcthA9UQqoUBegQIDRAB&amp;usg=AOvVaw36qNYhs3yKxvUrWXaN2xB8\"><div class=\"kCmkOe\"><img class=\"DS1iW\" alt=\"\" src=\"https://encrypted-tbn0.gstatic.com/images?q=tbn:ANd9GcSlANNkvAuoknaOkwzr-A8sK2GswGo4oYYofX3CGoiqwwl1BzjUPcpJ1MuS3g&amp;s\"/></div></a></td></tr><tr><td><a href=\"/url?q=https://www.indiatoday.in/technology/news/story/weeks-before-firing-12000-employees-google-ceo-sundar-pichai-received-massive-pay-hike-2328307-2023-01-30&amp;sa=U&amp;ved=2ahUKEwj2nYr9z8SHAxVgzDgGHcthA9UQr4kDegQIDRAC&amp;usg=AOvVaw2bboYXOiVIdHoZnja9VKDQ\"><div class=\"AlD19d\">  <span class=\"qXLe6d x3G5ab\">  <span class=\"fYyStc\">Weeks before firing 12000...</span>  </span>   <span class=\"qXLe6d F9iS2e\">  <span class=\"fYyStc\">www.indiatoday.in</span>  </span> </div></a></td></tr></table></div></div> </div> </div></td><td class=\"e3goi\" align=\"center\"><div class=\"jjVJ4e\"> <div> <div class=\"lIMUZd\"><div><table class=\"RntSmf\"><tr><td><a href=\"/url?q=https://www.financialexpress.com/life/lifestyle-this-is-how-google-ceo-sundar-pichai-and-his-wife-anjali-fell-in-love-the-love-story-of-two-iitians-3256837/&amp;sa=U&amp;ved=2ahUKEwj2nYr9z8SHAxVgzDgGHcthA9UQqoUBegQIERAB&amp;usg=AOvVaw0P2q_TjUX23a7fD0MrzKQn\"><div class=\"kCmkOe\"><img class=\"DS1iW\" alt=\"\" src=\"https://encrypted-tbn0.gstatic.com/images?q=tbn:ANd9GcS2b1qWJak97SFT6rCEj7I-kF3Md9sBYbmVsPzKEFYweS8xnWJLdVvcksnwrxU&amp;s\"/></div></a></td></tr><tr><td><a href=\"/url?q=https://www.financialexpress.com/life/lifestyle-this-is-how-google-ceo-sundar-pichai-and-his-wife-anjali-fell-in-love-the-love-story-of-two-iitians-3256837/&amp;sa=U&amp;ved=2ahUKEwj2nYr9z8SHAxVgzDgGHcthA9UQr4kDegQIERAC&amp;usg=AOvVaw3QUi1g5OLA8l0PmOv51kV1\"><div class=\"AlD19d\">  <span class=\"qXLe6d x3G5ab\">  <span class=\"fYyStc\">This is how Google CEO,...</span>  </span>   <span class=\"qXLe6d F9iS2e\">  <span class=\"fYyStc\">www.financialexpress.com</span>  </span> </div></a></td></tr></table></div></div> </div> </div></td><td class=\"e3goi\" align=\"center\"><div class=\"jjVJ4e\"> <div> <div class=\"lIMUZd\"><div><table class=\"RntSmf\"><tr><td><a href=\"/url?q=https://www.fortuneindia.com/enterprise/google-links-big-chunk-of-ceo-sundar-pichais-salary-to-performance/110846&amp;sa=U&amp;ved=2ahUKEwj2nYr9z8SHAxVgzDgGHcthA9UQqoUBegQIChAB&amp;usg=AOvVaw2byHbQjn-_menJyl6Eus7m\"><div class=\"kCmkOe\"><img class=\"DS1iW\" alt=\"\" src=\"https://encrypted-tbn0.gstatic.com/images?q=tbn:ANd9GcTTXkKLQDSGOnAr_s3q90jgVVCiRsY7xbEA8QZo4HtnVJnjA9FlbtjKgrPr6w&amp;s\"/></div></a></td></tr><tr><td><a href=\"/url?q=https://www.fortuneindia.com/enterprise/google-links-big-chunk-of-ceo-sundar-pichais-salary-to-performance/110846&amp;sa=U&amp;ved=2ahUKEwj2nYr9z8SHAxVgzDgGHcthA9UQr4kDegQIChAC&amp;usg=AOvVaw1-9bv26x-BRMbdD5H-QEZb\"><div class=\"AlD19d\">  <span class=\"qXLe6d x3G5ab\">  <span class=\"fYyStc\">Fortune India: Business...</span>  </span>   <span class=\"qXLe6d F9iS2e\">  <span class=\"fYyStc\">www.fortuneindia.com</span>  </span> </div></a></td></tr></table></div></div> </div> </div></td></tr><tr><td class=\"e3goi\" align=\"center\"><div class=\"jjVJ4e\"> <div> <div class=\"lIMUZd\"><div><table class=\"RntSmf\"><tr><td><a href=\"/url?q=https://www.businesstoday.in/technology/story/google-ceo-sundar-pichai-gets-a-big-raise-heres-how-much-he-will-earn-now-357355-2022-12-22&amp;sa=U&amp;ved=2ahUKEwj2nYr9z8SHAxVgzDgGHcthA9UQqoUBegQIDxAB&amp;usg=AOvVaw1ejGYPeBKnLh2VSkqglGXO\"><div class=\"kCmkOe\"><img class=\"DS1iW\" alt=\"\" src=\"https://encrypted-tbn0.gstatic.com/images?q=tbn:ANd9GcRctQjl0GYIgHBoFNMId0tOWoKuOHwzJ0LWyzn6X_V78LSWlf5Qaar-0bRtJQ&amp;s\"/></div></a></td></tr><tr><td><a href=\"/url?q=https://www.businesstoday.in/technology/story/google-ceo-sundar-pichai-gets-a-big-raise-heres-how-much-he-will-earn-now-357355-2022-12-22&amp;sa=U&amp;ved=2ahUKEwj2nYr9z8SHAxVgzDgGHcthA9UQr4kDegQIDxAC&amp;usg=AOvVaw0MmDtjx7P4Q5Acy5NJhIbH\"><div class=\"AlD19d\">  <span class=\"qXLe6d x3G5ab\">  <span class=\"fYyStc\">Google CEO Sundar Pichai...</span>  </span>   <span class=\"qXLe6d F9iS2e\">  <span class=\"fYyStc\">www.businesstoday.in</span>  </span> </div></a></td></tr></table></div></div> </div> </div></td><td class=\"e3goi\" align=\"center\"><div class=\"jjVJ4e\"> <div> <div class=\"lIMUZd\"><div><table class=\"RntSmf\"><tr><td><a href=\"/url?q=https://housing.com/news/sundar-pichai-house/&amp;sa=U&amp;ved=2ahUKEwj2nYr9z8SHAxVgzDgGHcthA9UQqoUBegQIEBAB&amp;usg=AOvVaw3QDhPPNLtpcjGGZaBAidcq\"><div class=\"kCmkOe\"><img class=\"DS1iW\" alt=\"\" src=\"https://encrypted-tbn0.gstatic.com/images?q=tbn:ANd9GcT9EWktnmxm8DksA1veIWBc14LauQF7b9vEvJ8e_pE0uMcZ5xYqXtD1BDoV4Q&amp;s\"/></div></a></td></tr><tr><td><a href=\"/url?q=https://housing.com/news/sundar-pichai-house/&amp;sa=U&amp;ved=2ahUKEwj2nYr9z8SHAxVgzDgGHcthA9UQr4kDegQIEBAC&amp;usg=AOvVaw2vd-a9RQ2sGvtuzTe9y3zn\"><div class=\"AlD19d\">  <span class=\"qXLe6d x3G5ab\">  <span class=\"fYyStc\">Key facts about Google CEO...</span>  </span>   <span class=\"qXLe6d F9iS2e\">  <span class=\"fYyStc\">housing.com</span>  </span> </div></a></td></tr></table></div></div> </div> </div></td><td class=\"e3goi\" align=\"center\"><div class=\"jjVJ4e\"> <div> <div class=\"lIMUZd\"><div><table class=\"RntSmf\"><tr><td><a href=\"/url?q=https://www.business-standard.com/article/companies/sundar-pichai-calls-on-jaishankar-to-discuss-india-s-digital-transformation-122122000722_1.html&amp;sa=U&amp;ved=2ahUKEwj2nYr9z8SHAxVgzDgGHcthA9UQqoUBegQIDBAB&amp;usg=AOvVaw3NPaA-a5MuigK0Zm3EXx12\"><div class=\"kCmkOe\"><img class=\"DS1iW\" alt=\"\" src=\"https://encrypted-tbn0.gstatic.com/images?q=tbn:ANd9GcTeR7utHrGwMruwE90cGdt62B8YcS8Wyj-0rAsaKnRIJPjrUsOIfweRnmxRkWg&amp;s\"/></div></a></td></tr><tr><td><a href=\"/url?q=https://www.business-standard.com/article/companies/sundar-pichai-calls-on-jaishankar-to-discuss-india-s-digital-transformation-122122000722_1.html&amp;sa=U&amp;ved=2ahUKEwj2nYr9z8SHAxVgzDgGHcthA9UQr4kDegQIDBAC&amp;usg=AOvVaw2xDko6SpRLoqaO6AfsYKze\"><div class=\"AlD19d\">  <span class=\"qXLe6d x3G5ab\">  <span class=\"fYyStc\">Sundar Pichai calls on...</span>  </span>   <span class=\"qXLe6d F9iS2e\">  <span class=\"fYyStc\">www.business-standard.com</span>  </span> </div></a></td></tr></table></div></div> </div> </div></td><td class=\"e3goi\" align=\"center\"><div class=\"jjVJ4e\"> <div> <div class=\"lIMUZd\"><div><table class=\"RntSmf\"><tr><td><a href=\"/url?q=https://www.gadgets360.com/internet/features/who-is-sundar-pichai-the-new-chief-of-google-726264&amp;sa=U&amp;ved=2ahUKEwj2nYr9z8SHAxVgzDgGHcthA9UQqoUBegQICxAB&amp;usg=AOvVaw2qT1YZ_fpNh9BQzRIx0RVV\"><div class=\"kCmkOe\"><img class=\"DS1iW\" alt=\"\" src=\"https://encrypted-tbn0.gstatic.com/images?q=tbn:ANd9GcT3qbCveEDA0kGoX5g-cUrjrffxloQB7BemAPo2AzIPchhnQG4HoqrmcvdavA&amp;s\"/></div></a></td></tr><tr><td><a href=\"/url?q=https://www.gadgets360.com/internet/features/who-is-sundar-pichai-the-new-chief-of-google-726264&amp;sa=U&amp;ved=2ahUKEwj2nYr9z8SHAxVgzDgGHcthA9UQr4kDegQICxAC&amp;usg=AOvVaw1EWwR_IIpLLWex1Seba1kT\"><div class=\"AlD19d\">  <span class=\"qXLe6d x3G5ab\">  <span class=\"fYyStc\">Who Is Sundar Pichai, the...</span>  </span>   <span class=\"qXLe6d F9iS2e\">  <span class=\"fYyStc\">www.gadgets360.com</span>  </span> </div></a></td></tr></table></div></div> </div> </div></td></tr><tr><td class=\"e3goi\" align=\"center\"><div class=\"jjVJ4e\"> <div> <div class=\"lIMUZd\"><div><table class=\"RntSmf\"><tr><td><a href=\"/url?q=https://officechai.com/stories/google-ceo-sundar-pichai-is-about-to-become-a-rare-non-founder-billionaire/&amp;sa=U&amp;ved=2ahUKEwj2nYr9z8SHAxVgzDgGHcthA9UQqoUBegQIBhAB&amp;usg=AOvVaw3roGY-h4jOtQ_v9HgGQTem\"><div class=\"kCmkOe\"><img class=\"DS1iW\" alt=\"\" src=\"https://encrypted-tbn0.gstatic.com/images?q=tbn:ANd9GcT5brw9QMMunyeLKbQln_eojQMgS1s7TVJXESCY5dZskhr_9KA52e4oOrBzL-Q&amp;s\"/></div></a></td></tr><tr><td><a href=\"/url?q=https://officechai.com/stories/google-ceo-sundar-pichai-is-about-to-become-a-rare-non-founder-billionaire/&amp;sa=U&amp;ved=2ahUKEwj2nYr9z8SHAxVgzDgGHcthA9UQr4kDegQIBhAC&amp;usg=AOvVaw0fwja3yA6uJNYzDv2FxfTn\"><div class=\"AlD19d\">  <span class=\"qXLe6d x3G5ab\">  <span class=\"fYyStc\">Google CEO Sundar Pichai Is...</span>  </span>   <span class=\"qXLe6d F9iS2e\">  <span class=\"fYyStc\">officechai.com</span>  </span> </div></a></td></tr></table></div></div> </div> </div></td><td class=\"e3goi\" align=\"center\"><div class=\"jjVJ4e\"> <div> <div class=\"lIMUZd\"><div><table class=\"RntSmf\"><tr><td><a href=\"/url?q=https://www.dnaindia.com/business/report-highest-paid-indian-ceo-with-rs-1800-crore-salary-package-may-be-fired-or-will-resign-3079533&amp;sa=U&amp;ved=2ahUKEwj2nYr9z8SHAxVgzDgGHcthA9UQqoUBegQIBBAB&amp;usg=AOvVaw0X9PH2TJzzwosI3Nw17ZT3\"><div class=\"kCmkOe\"><img class=\"DS1iW\" alt=\"\" src=\"https://encrypted-tbn0.gstatic.com/images?q=tbn:ANd9GcSrbmz0Aa7Y44l5c-9lMMGwvosYkJj7GdeB33DKsKmhgZ-dnnJD1P2QzLYe46g&amp;s\"/></div></a></td></tr><tr><td><a href=\"/url?q=https://www.dnaindia.com/business/report-highest-paid-indian-ceo-with-rs-1800-crore-salary-package-may-be-fired-or-will-resign-3079533&amp;sa=U&amp;ved=2ahUKEwj2nYr9z8SHAxVgzDgGHcthA9UQr4kDegQIBBAC&amp;usg=AOvVaw38Ddj8jZnrTcG7bwYSVN9a\"><div class=\"AlD19d\">  <span class=\"qXLe6d x3G5ab\">  <span class=\"fYyStc\">Highest paid Indian CEO...</span>  </span>   <span class=\"qXLe6d F9iS2e\">  <span class=\"fYyStc\">www.dnaindia.com</span>  </span> </div></a></td></tr></table></div></div> </div> </div></td><td class=\"e3goi\" align=\"center\"><div class=\"jjVJ4e\"> <div> <div class=\"lIMUZd\"><div><table class=\"RntSmf\"><tr><td><a href=\"/url?q=https://www.businessinsider.com/google-ceo-responds-to-anti-diversity-manifesto-sundar-pichai-vacation-2017-8&amp;sa=U&amp;ved=2ahUKEwj2nYr9z8SHAxVgzDgGHcthA9UQqoUBegQIARAB&amp;usg=AOvVaw2TbSS7QEtxcaNmJ4MF1uEK\"><div class=\"kCmkOe\"><img class=\"DS1iW\" alt=\"\" src=\"https://encrypted-tbn0.gstatic.com/images?q=tbn:ANd9GcS1mzM_kehgpJoO8SUC2doQe4dJALtwgCmZAKAOLp_wC1wwHmBqqolBgBT0n8A&amp;s\"/></div></a></td></tr><tr><td><a href=\"/url?q=https://www.businessinsider.com/google-ceo-responds-to-anti-diversity-manifesto-sundar-pichai-vacation-2017-8&amp;sa=U&amp;ved=2ahUKEwj2nYr9z8SHAxVgzDgGHcthA9UQr4kDegQIARAC&amp;usg=AOvVaw3JntiwkQNMpdZ9Qsw1UlRC\"><div class=\"AlD19d\">  <span class=\"qXLe6d x3G5ab\">  <span class=\"fYyStc\">Sundar Pichai Cut Family...</span>  </span>   <span class=\"qXLe6d F9iS2e\">  <span class=\"fYyStc\">www.businessinsider.com</span>  </span> </div></a></td></tr></table></div></div> </div> </div></td><td class=\"e3goi\" align=\"center\"><div class=\"jjVJ4e\"> <div> <div class=\"lIMUZd\"><div><table class=\"RntSmf\"><tr><td><a href=\"/url?q=https://www.businesstoday.in/technology/news/story/i-think-an-honorary-doctorate-still-counts-google-ceo-sundar-pichai-wife-anjali-honoured-by-iit-kharagpur-438902-2024-07-26&amp;sa=U&amp;ved=2ahUKEwj2nYr9z8SHAxVgzDgGHcthA9UQqoUBegQIBRAB&amp;usg=AOvVaw2kW8KD_oyzAk_WrTDcYgzU\"><div class=\"kCmkOe\"><img class=\"DS1iW\" alt=\"\" src=\"https://encrypted-tbn0.gstatic.com/images?q=tbn:ANd9GcTD_sT6zaAN-zHpxZPxEtaKJ1yrM913yIGx4hGCX0WqQ5Cwv5avY1tY2e9SbB0&amp;s\"/></div></a></td></tr><tr><td><a href=\"/url?q=https://www.businesstoday.in/technology/news/story/i-think-an-honorary-doctorate-still-counts-google-ceo-sundar-pichai-wife-anjali-honoured-by-iit-kharagpur-438902-2024-07-26&amp;sa=U&amp;ved=2ahUKEwj2nYr9z8SHAxVgzDgGHcthA9UQr4kDegQIBRAC&amp;usg=AOvVaw1H5TCQvaRNZoQ-5XPYo9IO\"><div class=\"AlD19d\">  <span class=\"qXLe6d x3G5ab\">  <span class=\"fYyStc\">I think an honorary...</span>  </span>   <span class=\"qXLe6d F9iS2e\">  <span class=\"fYyStc\">www.businesstoday.in</span>  </span> </div></a></td></tr></table></div></div> </div> </div></td></tr><tr><td class=\"e3goi\" align=\"center\"><div class=\"jjVJ4e\"> <div> <div class=\"lIMUZd\"><div><table class=\"RntSmf\"><tr><td><a href=\"/url?q=https://www.inc.com/jason-aten/google-ceo-sundar-pichai-forgot-most-important-rule-of-leadership-it-could-cost-him-his-job.html&amp;sa=U&amp;ved=2ahUKEwj2nYr9z8SHAxVgzDgGHcthA9UQqoUBegQIBxAB&amp;usg=AOvVaw3njhiRHJRhFjKyWuUZhix5\"><div class=\"kCmkOe\"><img class=\"DS1iW\" alt=\"\" src=\"https://encrypted-tbn0.gstatic.com/images?q=tbn:ANd9GcTfZzZ6DV1zi4ZHGUVS4TH3uxxfr75Qzrkna06t0uZtzTmEUl6zoug55iTnFqw&amp;s\"/></div></a></td></tr><tr><td><a href=\"/url?q=https://www.inc.com/jason-aten/google-ceo-sundar-pichai-forgot-most-important-rule-of-leadership-it-could-cost-him-his-job.html&amp;sa=U&amp;ved=2ahUKEwj2nYr9z8SHAxVgzDgGHcthA9UQr4kDegQIBxAC&amp;usg=AOvVaw371Bv5liGaXoKTWTVTi8IA\"><div class=\"AlD19d\">  <span class=\"qXLe6d x3G5ab\">  <span class=\"fYyStc\">Google CEO Sundar Pichai...</span>  </span>   <span class=\"qXLe6d F9iS2e\">  <span class=\"fYyStc\">www.inc.com</span>  </span> </div></a></td></tr></table></div></div> </div> </div></td><td class=\"e3goi\" align=\"center\"><div class=\"jjVJ4e\"> <div> <div class=\"lIMUZd\"><div><table class=\"RntSmf\"><tr><td><a href=\"/url?q=https://timesofindia.indiatimes.com/life-style/relationships/web-stories/sundar-pichai-all-about-his-education-salary-family-and-more/photostory/108254797.cms&amp;sa=U&amp;ved=2ahUKEwj2nYr9z8SHAxVgzDgGHcthA9UQqoUBegQIABAB&amp;usg=AOvVaw2lDkOuuE6Sb6cANmezU-wB\"><div class=\"kCmkOe\"><img class=\"DS1iW\" alt=\"\" src=\"https://encrypted-tbn0.gstatic.com/images?q=tbn:ANd9GcQYOtQJ3qsIwOlqIpjAJ6LmO2Pubb0IboFNH6om2bVeWH7VBZi7ByElfWSsSTM&amp;s\"/></div></a></td></tr><tr><td><a href=\"/url?q=https://timesofindia.indiatimes.com/life-style/relationships/web-stories/sundar-pichai-all-about-his-education-salary-family-and-more/photostory/108254797.cms&amp;sa=U&amp;ved=2ahUKEwj2nYr9z8SHAxVgzDgGHcthA9UQr4kDegQIABAC&amp;usg=AOvVaw0ynMNZvfnY4vlE4RBggj_R\"><div class=\"AlD19d\">  <span class=\"qXLe6d x3G5ab\">  <span class=\"fYyStc\">Sundar Pichai: All about...</span>  </span>   <span class=\"qXLe6d F9iS2e\">  <span class=\"fYyStc\">timesofindia.indiatimes.com...</span>  </span> </div></a></td></tr></table></div></div> </div> </div></td><td class=\"e3goi\" align=\"center\"><div class=\"jjVJ4e\"> <div> <div class=\"lIMUZd\"><div><table class=\"RntSmf\"><tr><td><a href=\"/url?q=https://m.economictimes.com/magazines/panache/whats-brewing-between-priyanka-chopra-and-google-ceo-sundar-pichai/articleshow/64491821.cms&amp;sa=U&amp;ved=2ahUKEwj2nYr9z8SHAxVgzDgGHcthA9UQqoUBegQIAhAB&amp;usg=AOvVaw2ySzQLu-drH3cFv_5zx9g0\"><div class=\"kCmkOe\"><img class=\"DS1iW\" alt=\"\" src=\"https://encrypted-tbn0.gstatic.com/images?q=tbn:ANd9GcRlOpueOjQApv-4S0QCcGkPxoG_Y3WhOcTKGZyUFZSo42YfA6Ug5BiQgyq2yCE&amp;s\"/></div></a></td></tr><tr><td><a href=\"/url?q=https://m.economictimes.com/magazines/panache/whats-brewing-between-priyanka-chopra-and-google-ceo-sundar-pichai/articleshow/64491821.cms&amp;sa=U&amp;ved=2ahUKEwj2nYr9z8SHAxVgzDgGHcthA9UQr4kDegQIAhAC&amp;usg=AOvVaw2yRlSNsvyARpwzGQalijuT\"><div class=\"AlD19d\">  <span class=\"qXLe6d x3G5ab\">  <span class=\"fYyStc\">When Priyanka Chopra was...</span>  </span>   <span class=\"qXLe6d F9iS2e\">  <span class=\"fYyStc\">m.economictimes.com</span>  </span> </div></a></td></tr></table></div></div> </div> </div></td><td class=\"e3goi\" align=\"center\"><div class=\"jjVJ4e\"> <div> <div class=\"lIMUZd\"><div><table class=\"RntSmf\"><tr><td><a href=\"/url?q=https://www.linkedin.com/pulse/sundar-pichai-salute-people-india-padmanabhan-karatha&amp;sa=U&amp;ved=2ahUKEwj2nYr9z8SHAxVgzDgGHcthA9UQqoUBegQICBAB&amp;usg=AOvVaw21xwgbx0mmP_eK0tXhtKYW\"><div class=\"kCmkOe\"><img class=\"DS1iW\" alt=\"\" src=\"https://encrypted-tbn0.gstatic.com/images?q=tbn:ANd9GcTkBLg5trhZBknXOLMf0ASg7dBZXxxutKRuKlXyw5N_omtZLRMg1wTDcBVNDw&amp;s\"/></div></a></td></tr><tr><td><a href=\"/url?q=https://www.linkedin.com/pulse/sundar-pichai-salute-people-india-padmanabhan-karatha&amp;sa=U&amp;ved=2ahUKEwj2nYr9z8SHAxVgzDgGHcthA9UQr4kDegQICBAC&amp;usg=AOvVaw3OvOupIRcaRmM5MHggvQFv\"><div class=\"AlD19d\">  <span class=\"qXLe6d x3G5ab\">  <span class=\"fYyStc\">Sundar Pichai and the...</span>  </span>   <span class=\"qXLe6d F9iS2e\">  <span class=\"fYyStc\">www.linkedin.com</span>  </span> </div></a></td></tr></table></div></div> </div> </div></td></tr></table></div><table class=\"uZgmoc\"><tbody><td><a class=\"frGj1b\" href=\"/search?q=sundar+pichai&amp;sca_esv=8555417468704b0c&amp;sca_upv=1&amp;biw=1536&amp;bih=695&amp;ie=UTF-8&amp;tbm=isch&amp;ei=hIujZvbLLuCY4-EPy8ONqA0&amp;start=20&amp;sa=N\">Next&nbsp;&gt;</a></td></tbody></table><br/><div class=\"TuS8Ad\" data-ved=\"0ahUKEwj2nYr9z8SHAxVgzDgGHcthA9UQpyoIRQ\"><style>.VYM29{font-weight:bold}</style><div class=\"HddGcc\" align=\"center\"><span class=\"VYM29\">Mumbai, Maharashtra</span><span>&nbsp;-&nbsp;</span><span>From your IP address</span><span>&nbsp;-&nbsp;</span><a href=\"/url?q=https://support.google.com/websearch%3Fp%3Dws_settings_location%26hl%3Den-IN&amp;opi=89978449&amp;sa=U&amp;ved=0ahUKEwj2nYr9z8SHAxVgzDgGHcthA9UQty4IRg&amp;usg=AOvVaw3YowoSNkAfA0HMaGXVBuyG\">Learn more</a></div><div align=\"center\"><a class=\"rEM8G\" href=\"/url?q=https://accounts.google.com/ServiceLogin%3Fcontinue%3Dhttps://www.google.com/search%253Fsxsrf%253DADLYWIIzw6nSpbspLovbUmm_XL0H1PonBg:1721986609603%2526q%253Dsundar%252Bpichai%2526fbs%253DAEQNm0Aa4sjWe7Rqy32pFwRj0UkWd8nbOJfsBGGB5IQQO6L3J5MIFhvnvU242yFxzEEp3BekApeLFCP-yt1rlLqzmhw_-yjmy56-jU7vCqheuFOLmQRfAB99cxHld5c98wjVFx44OPD2XifQJ3oLvh7U8nPV6v3AtTCu5hoZeWRfyN25Emdpl97-fPb3rtztUklBAoY-k51Hul_gXY5gNHPfdAu3yLD0tw%2526sa%253DX%2526sqi%253D2%2526ved%253D2ahUKEwiCnrGBtMSHAxVizjgGHV4mA_kQtKgLegQIEhAB%2526biw%253D1536%2526bih%253D695%2526dpr%253D1.25%2526tbm%253Disch%26hl%3Den&amp;opi=89978449&amp;sa=U&amp;ved=0ahUKEwj2nYr9z8SHAxVgzDgGHcthA9UQxs8CCEc&amp;usg=AOvVaw32DjIKoXeGaE6p9L5nySjx\">Sign in</a></div><div><table class=\"bookcf\"><tbody class=\"InWNIe\"><tr><td><a class=\"rEM8G\" href=\"https://www.google.com/preferences?hl=en&amp;sa=X&amp;ved=0ahUKEwj2nYr9z8SHAxVgzDgGHcthA9UQv5YECEg\">Settings</a></td><td><a class=\"rEM8G\" href=\"https://www.google.com/intl/en_in/policies/privacy/\">Privacy</a></td><td><a class=\"rEM8G\" href=\"https://www.google.com/intl/en_in/policies/terms/\">Terms</a></td></tr></tbody></table></div></div><div>  </div></body></html>'"
      ]
     },
     "execution_count": 5,
     "metadata": {},
     "output_type": "execute_result"
    }
   ],
   "source": [
    "response.content"
   ]
  },
  {
   "cell_type": "code",
   "execution_count": 6,
   "id": "21aa350b-1212-425c-b17e-f06cdd22ba4b",
   "metadata": {},
   "outputs": [],
   "source": [
    "soup = bs(response.content, \"html.parser\")"
   ]
  },
  {
   "cell_type": "code",
   "execution_count": 7,
   "id": "15b0be5d-ceda-46c3-af4a-6e8adddb4884",
   "metadata": {},
   "outputs": [
    {
     "data": {
      "text/plain": [
       "[<img alt=\"Google\" class=\"kgJEQe\" src=\"/images/branding/searchlogo/1x/googlelogo_desk_heirloom_color_150x55dp.gif\"/>,\n",
       " <img alt=\"\" class=\"DS1iW\" src=\"https://encrypted-tbn0.gstatic.com/images?q=tbn:ANd9GcSUHuUHATgxDDQayfFAJ83-0dr0WuaiI9LlYlxSEbnGXH1_9YULeiijrn8hfbA&amp;s\"/>,\n",
       " <img alt=\"\" class=\"DS1iW\" src=\"https://encrypted-tbn0.gstatic.com/images?q=tbn:ANd9GcTi4rFF0UsyhO-3fnMtc9YzElg7fgM8td1lZW95ggz7SJRgQeFs_-kfo5Wlpg&amp;s\"/>,\n",
       " <img alt=\"\" class=\"DS1iW\" src=\"https://encrypted-tbn0.gstatic.com/images?q=tbn:ANd9GcSUYhkyw-DnuQI5hgTyhRZZc3O_gi-PHlixtaa9aB1PngCBSOxVbbCq9A1btg&amp;s\"/>,\n",
       " <img alt=\"\" class=\"DS1iW\" src=\"https://encrypted-tbn0.gstatic.com/images?q=tbn:ANd9GcSjyydu-OaO-_p8pYfcBs7NLcP9NagxJoQJlvewUEvP81_fcOcyb9lh0whfHg&amp;s\"/>,\n",
       " <img alt=\"\" class=\"DS1iW\" src=\"https://encrypted-tbn0.gstatic.com/images?q=tbn:ANd9GcQ4IMXJS5Kx3puhV614U08kGNDiUesx8zjIOyW4Ftzy3L1tPLR-v6jmHE5nFA&amp;s\"/>,\n",
       " <img alt=\"\" class=\"DS1iW\" src=\"https://encrypted-tbn0.gstatic.com/images?q=tbn:ANd9GcSlANNkvAuoknaOkwzr-A8sK2GswGo4oYYofX3CGoiqwwl1BzjUPcpJ1MuS3g&amp;s\"/>,\n",
       " <img alt=\"\" class=\"DS1iW\" src=\"https://encrypted-tbn0.gstatic.com/images?q=tbn:ANd9GcS2b1qWJak97SFT6rCEj7I-kF3Md9sBYbmVsPzKEFYweS8xnWJLdVvcksnwrxU&amp;s\"/>,\n",
       " <img alt=\"\" class=\"DS1iW\" src=\"https://encrypted-tbn0.gstatic.com/images?q=tbn:ANd9GcTTXkKLQDSGOnAr_s3q90jgVVCiRsY7xbEA8QZo4HtnVJnjA9FlbtjKgrPr6w&amp;s\"/>,\n",
       " <img alt=\"\" class=\"DS1iW\" src=\"https://encrypted-tbn0.gstatic.com/images?q=tbn:ANd9GcRctQjl0GYIgHBoFNMId0tOWoKuOHwzJ0LWyzn6X_V78LSWlf5Qaar-0bRtJQ&amp;s\"/>,\n",
       " <img alt=\"\" class=\"DS1iW\" src=\"https://encrypted-tbn0.gstatic.com/images?q=tbn:ANd9GcT9EWktnmxm8DksA1veIWBc14LauQF7b9vEvJ8e_pE0uMcZ5xYqXtD1BDoV4Q&amp;s\"/>,\n",
       " <img alt=\"\" class=\"DS1iW\" src=\"https://encrypted-tbn0.gstatic.com/images?q=tbn:ANd9GcTeR7utHrGwMruwE90cGdt62B8YcS8Wyj-0rAsaKnRIJPjrUsOIfweRnmxRkWg&amp;s\"/>,\n",
       " <img alt=\"\" class=\"DS1iW\" src=\"https://encrypted-tbn0.gstatic.com/images?q=tbn:ANd9GcT3qbCveEDA0kGoX5g-cUrjrffxloQB7BemAPo2AzIPchhnQG4HoqrmcvdavA&amp;s\"/>,\n",
       " <img alt=\"\" class=\"DS1iW\" src=\"https://encrypted-tbn0.gstatic.com/images?q=tbn:ANd9GcT5brw9QMMunyeLKbQln_eojQMgS1s7TVJXESCY5dZskhr_9KA52e4oOrBzL-Q&amp;s\"/>,\n",
       " <img alt=\"\" class=\"DS1iW\" src=\"https://encrypted-tbn0.gstatic.com/images?q=tbn:ANd9GcSrbmz0Aa7Y44l5c-9lMMGwvosYkJj7GdeB33DKsKmhgZ-dnnJD1P2QzLYe46g&amp;s\"/>,\n",
       " <img alt=\"\" class=\"DS1iW\" src=\"https://encrypted-tbn0.gstatic.com/images?q=tbn:ANd9GcS1mzM_kehgpJoO8SUC2doQe4dJALtwgCmZAKAOLp_wC1wwHmBqqolBgBT0n8A&amp;s\"/>,\n",
       " <img alt=\"\" class=\"DS1iW\" src=\"https://encrypted-tbn0.gstatic.com/images?q=tbn:ANd9GcTD_sT6zaAN-zHpxZPxEtaKJ1yrM913yIGx4hGCX0WqQ5Cwv5avY1tY2e9SbB0&amp;s\"/>,\n",
       " <img alt=\"\" class=\"DS1iW\" src=\"https://encrypted-tbn0.gstatic.com/images?q=tbn:ANd9GcTfZzZ6DV1zi4ZHGUVS4TH3uxxfr75Qzrkna06t0uZtzTmEUl6zoug55iTnFqw&amp;s\"/>,\n",
       " <img alt=\"\" class=\"DS1iW\" src=\"https://encrypted-tbn0.gstatic.com/images?q=tbn:ANd9GcQYOtQJ3qsIwOlqIpjAJ6LmO2Pubb0IboFNH6om2bVeWH7VBZi7ByElfWSsSTM&amp;s\"/>,\n",
       " <img alt=\"\" class=\"DS1iW\" src=\"https://encrypted-tbn0.gstatic.com/images?q=tbn:ANd9GcRlOpueOjQApv-4S0QCcGkPxoG_Y3WhOcTKGZyUFZSo42YfA6Ug5BiQgyq2yCE&amp;s\"/>,\n",
       " <img alt=\"\" class=\"DS1iW\" src=\"https://encrypted-tbn0.gstatic.com/images?q=tbn:ANd9GcTkBLg5trhZBknXOLMf0ASg7dBZXxxutKRuKlXyw5N_omtZLRMg1wTDcBVNDw&amp;s\"/>]"
      ]
     },
     "execution_count": 7,
     "metadata": {},
     "output_type": "execute_result"
    }
   ],
   "source": [
    "soup.find_all(\"img\")"
   ]
  },
  {
   "cell_type": "code",
   "execution_count": 8,
   "id": "d376361e-e8ba-470f-9072-f6c03560c300",
   "metadata": {},
   "outputs": [],
   "source": [
    "image_tag = soup.find_all(\"img\")"
   ]
  },
  {
   "cell_type": "code",
   "execution_count": 9,
   "id": "d1f4b9d0-72ad-4baf-9549-85a0177aed35",
   "metadata": {},
   "outputs": [
    {
     "data": {
      "text/plain": [
       "21"
      ]
     },
     "execution_count": 9,
     "metadata": {},
     "output_type": "execute_result"
    }
   ],
   "source": [
    "len(image_tag)"
   ]
  },
  {
   "cell_type": "code",
   "execution_count": 10,
   "id": "0ecd17ab-5f9b-44f2-b97b-ce1a1ff58232",
   "metadata": {},
   "outputs": [],
   "source": [
    "del image_tag[0]"
   ]
  },
  {
   "cell_type": "code",
   "execution_count": 11,
   "id": "e399bae1-1049-4974-9f1b-8ef9c5e95ec3",
   "metadata": {},
   "outputs": [
    {
     "data": {
      "text/plain": [
       "20"
      ]
     },
     "execution_count": 11,
     "metadata": {},
     "output_type": "execute_result"
    }
   ],
   "source": [
    "len(image_tag)"
   ]
  },
  {
   "cell_type": "code",
   "execution_count": 28,
   "id": "26d86664-f41b-4624-9eca-2f609bb0739a",
   "metadata": {},
   "outputs": [],
   "source": [
    "img_data_mongo =[]\n",
    "for i in image_tag:\n",
    "    image_url = i['src']\n",
    "    image_data = requests.get(image_url).content\n",
    "    my_dict = {\"index\":image_url, \"image\": image_data}\n",
    "    img_data_mongo.append(my_dict)\n",
    "    with open (os.path.join(save_dir,f\"{query}_{image_tag.index(i)}.jpg\"),\"wb\") as f:\n",
    "        f.write(image_data)\n",
    "# client = pymongo.MongoClient(\"\")\n",
    "# db = client[\"image_scrap\"]\n",
    "# collection_image = db[\"image_scrap\"]\n",
    "# collection_image.insert_many(img_data_mongo)"
   ]
  }
 ],
 "metadata": {
  "kernelspec": {
   "display_name": "Python 3 (ipykernel)",
   "language": "python",
   "name": "python3"
  },
  "language_info": {
   "codemirror_mode": {
    "name": "ipython",
    "version": 3
   },
   "file_extension": ".py",
   "mimetype": "text/x-python",
   "name": "python",
   "nbconvert_exporter": "python",
   "pygments_lexer": "ipython3",
   "version": "3.10.8"
  },
  "toc-autonumbering": true
 },
 "nbformat": 4,
 "nbformat_minor": 5
}
